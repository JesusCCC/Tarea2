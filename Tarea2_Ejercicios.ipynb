{
  "nbformat": 4,
  "nbformat_minor": 0,
  "metadata": {
    "colab": {
      "name": "Tarea2_Ejercicios",
      "provenance": []
    },
    "kernelspec": {
      "name": "python3",
      "display_name": "Python 3"
    },
    "language_info": {
      "name": "python"
    }
  },
  "cells": [
    {
      "cell_type": "code",
      "metadata": {
        "id": "cGN9fbU85nLe"
      },
      "source": [
        "#EJERCICIO 1 / Serie de fibonacci con recursividad\n",
        "                                                    #Secuencia de Fibonacci [0,1,1,2,3,5,8,13,...,n]\n",
        "def fibonacci ( n ):\n",
        "    if n <= 1:                                      #La suma es de esta manera 0, 0+1 = 1,   1+1 = 2,    1+2 = 3,   2+3 = 5,  3+5 = 8, ...\n",
        "        return n                                                              \n",
        "    else:                                                                  \n",
        "        return fibonacci (n-1) + fibonacci (n-2)                             \n",
        "n = 6                                              #lo que sucedera es que va a imprimir el numero correspondiente al solicitado \n",
        "resultado = fibonacci(n)                           #por ejemplo si mando a imprimir el 6 me da como resultado su numero correspondiente [8]\n",
        "\n",
        "print ( 'es', resultado)\n"
      ],
      "execution_count": null,
      "outputs": []
    },
    {
      "cell_type": "code",
      "metadata": {
        "id": "BEufj4A25zZf"
      },
      "source": [
        "#EJERCICIO 1 / Serie de fibonacci con recursividad / en secuencia\n",
        "\n",
        "def fibonacci(nu):\n",
        "    if nu <= 1:\n",
        "        return nu\n",
        "    else:\n",
        "        return(fibonacci(nu - 1) + fibonacci (nu-2))  \n",
        "\n",
        "nu = int(input(\"Pon un numero \"))  #Agregamos un numero, y el programa procede a poner la secuencia previa a ese numero\n",
        "\n",
        "for i in range(nu):\n",
        "    resultado = fibonacci(i)       #Como es la secuencia previa, no imprime el numero correspondiente al solicitado, sino un previo\n",
        "    print ( 'es ', resultado)      #Por ejemplo si mando a imprimir la secuencia de 6 me da como resultado [0,1,1,2,3,5] "
      ],
      "execution_count": null,
      "outputs": []
    },
    {
      "cell_type": "code",
      "metadata": {
        "id": "7aZX81gc56S6"
      },
      "source": [
        "#EJERCICIO 2 / Crear una lista de enteros y realizar la suma con recursividad.\n",
        "\n",
        "def sumar(lista):\n",
        "    if len(lista)== 1:\n",
        "        return lista[0]                          #Lo que procede a hacer una vez iniciado el algoritmo es sumar la lista de numeros de manera consecutiva\n",
        "    else:                                        #El resultado depende de la cantidad de elementos en la lista\n",
        "        return lista[0] + sumar(lista[1:])       \n",
        "\n",
        "num = [1,2,3,4,5]       \n",
        "resultado = sumar(num)\n",
        "print(\"La suma de valores es igual a \", resultado)"
      ],
      "execution_count": null,
      "outputs": []
    },
    {
      "cell_type": "code",
      "metadata": {
        "id": "iv4A-YGq6Lyq"
      },
      "source": [
        "#EJERCICIO 3 / Hacer un contador regresivo con recursion.\n",
        "\n",
        "print (\"\\n\")\n",
        "def contador ( n ):\n",
        "     if n > 0:               #El algoritmo se encarga de restar lo solicitado en contador hasta que llegue al caso base. \n",
        "         print( n )\n",
        "         contador( n-1 )\n",
        "contador(10)              #Cuando el contador llegue a cero este procedera a imprimir la palabra BOOOM!!!\n",
        "print('BOOOM!!!')"
      ],
      "execution_count": null,
      "outputs": []
    },
    {
      "cell_type": "code",
      "metadata": {
        "id": "imXbAkLM6oVR"
      },
      "source": [
        "#EJERCICIO 4 / eliminar de un arreglo un elemento en cierta posicion\n",
        "\n",
        "def L_ele( n ):\n",
        "    if n > 0 :                  #este algoritmo nos ayudara a encontrar el elemento que necesitamos eliminar\n",
        "        print( n )\n",
        "        return L_ele(n - 1) \n",
        "\n",
        "L_ele = [1,2,3,4,5,6,7,8,9,10]  #tecleamos los elementos que se requieran\n",
        "\n",
        "print(L_ele)\n",
        "\n",
        "L_ele.remove(4)    #Se selecciona el elemento que se quiere ser eliminado\n",
        "\n",
        "print('Lista con el elemento eliminado', printREV)"
      ],
      "execution_count": null,
      "outputs": []
    }
  ]
}