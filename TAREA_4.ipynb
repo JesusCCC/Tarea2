{
  "nbformat": 4,
  "nbformat_minor": 0,
  "metadata": {
    "colab": {
      "name": "TAREA_4.ipynb",
      "provenance": [],
      "collapsed_sections": []
    },
    "kernelspec": {
      "name": "python3",
      "display_name": "Python 3"
    },
    "language_info": {
      "name": "python"
    }
  },
  "cells": [
    {
      "cell_type": "code",
      "metadata": {
        "id": "6tdbvsYaZHj6"
      },
      "source": [
        "import math   #importo la libreria de matematicas para las raices\n",
        "\n",
        "def discriminante(a, b, c):         #Esta primer funcion es para los discriminantes. Ponemos los parametros \n",
        "    discrim = pow(b,2)-(4*a*c)      \n",
        "    return discrim                  \n",
        "\n",
        "def raices(a, b, disc):\n",
        "    x1 = (-b + math.sqrt(disc)) / (2*a)    #Esta funcion terminara por resolver la formula \n",
        "    x2 = (-b - math.sqrt(disc)) / (2*a)\n",
        "    return x1, x2\n",
        "\n",
        "print(\"Calculo de raices \")\n",
        "\n",
        "disc=discriminante(3,-11,-4)    #escriba los coeficientes de la ecuacion de segundo grado\n",
        "\n",
        "if disc < 0:\n",
        "    print(\"No hay raices  \") \n",
        "else:\n",
        "    print(f'Las raices son {raices(a, b, disc )} ')\n",
        "\n"
      ],
      "execution_count": null,
      "outputs": []
    }
  ]
}